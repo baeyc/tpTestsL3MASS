{
 "cells": [
  {
   "cell_type": "markdown",
   "metadata": {},
   "source": [
    "# Test d'hypothèses dans le modèle binomial"
   ]
  },
  {
   "cell_type": "markdown",
   "metadata": {},
   "source": [
    "Dans ce TP, on se propose d'illustrer certains résultats théoriques étudiés en cours et en TD, dans le cadre du modèle binomial.\n",
    "\n",
    "On travaillera donc avec une suite de variables aléatoires $X_1, \\dots, X_n$, indépendantes et de même loi de Bernoulli $\\mathcal{B}(p)$, avec $p$ inconnu. On définit $S_n = \\sum_{i=1}^n X_i$.\n",
    "\n",
    "On considère le test d'hypothèse suivant :\n",
    "\n",
    "$$ H_0 : p \\in \\Theta_0 \\quad \\text{ contre } \\quad H_1 : p \\in \\Theta_1, $$\n",
    "\n",
    "où $\\Theta_0$ et $\\Theta_1$ sont deux sous-ensembles disjoints de $[0,1]$.\n",
    "\n",
    "## Test d'hypothèses simples\n",
    "\n",
    "Dans cette partie, on s'intéresse au cas d'*hypothèses simples*, c'est-à-dire telles que $\\Theta_0$ et $\\Theta_1£ sont réduites à un singleton. On écrit alors :\n",
    "\n",
    "$$ H_0 : p = p_0 \\quad \\text{ contre } \\quad H_1 : p = p_1,$$\n",
    "\n",
    "et on a donc $\\Theta_0 = \\{p_0\\}$ et $\\Theta_1 = \\{p_1\\}$.\n",
    "\n",
    "### Zone de rejet\n",
    "\n",
    "On reprend l'exemple de l'exercice 4 de la fiche de TD 1, où l'on a $n=50$, $p_0 = 3/4$ et $p_1=9/16$. On commence par définir ces quantités."
   ]
  },
  {
   "cell_type": "code",
   "execution_count": 37,
   "metadata": {},
   "outputs": [],
   "source": [
    "# importation des librairies Python utiles\n",
    "from scipy import stats\n",
    "from scipy.stats import binom\n",
    "import matplotlib.pyplot as plt\n",
    "import numpy as np"
   ]
  },
  {
   "cell_type": "code",
   "execution_count": 38,
   "metadata": {},
   "outputs": [],
   "source": [
    "n = 50\n",
    "p0 = 3/4\n",
    "p1 = 9/16"
   ]
  },
  {
   "cell_type": "markdown",
   "metadata": {},
   "source": [
    "On va construire la région de rejet pour les niveaux suivants : 10%, 6%, 5%, 2% et 1%. On construit un vecteur qui va contenir ces valeurs."
   ]
  },
  {
   "cell_type": "code",
   "execution_count": 39,
   "metadata": {},
   "outputs": [],
   "source": [
    "alpha = [0.10,0.06,0.05,0.02,0.01]"
   ]
  },
  {
   "cell_type": "markdown",
   "metadata": {},
   "source": [
    "La région de rejet est de la forme $\\{S_n \\leq k_\\alpha\\}$. On calcule $k_\\alpha$ à l'aide de la fonction ppf (inverse de la fonction de répartition):"
   ]
  },
  {
   "cell_type": "code",
   "execution_count": 40,
   "metadata": {},
   "outputs": [],
   "source": [
    "k = binom.ppf(alpha,n,p0)"
   ]
  },
  {
   "cell_type": "markdown",
   "metadata": {},
   "source": [
    "Traçons la fonction de répartition de la loi binomiale de paramètres $n=50$ et $p=p_0$. "
   ]
  },
  {
   "cell_type": "code",
   "execution_count": 48,
   "metadata": {},
   "outputs": [
    {
     "data": {
      "image/png": "[encoded data removed]",
      "text/plain": [
       "<Figure size 432x288 with 1 Axes>"
      ]
     },
     "metadata": {
      "needs_background": "light"
     },
     "output_type": "display_data"
    }
   ],
   "source": [
    "x = np.linspace(20,50,100)\n",
    "plt.plot(x,binom.cdf(x, n, p0), linewidth=2.5)\n",
    "plt.show()"
   ]
  },
  {
   "cell_type": "markdown",
   "metadata": {},
   "source": [
    "On peut visualiser le lien entre niveau du test et région de rejet."
   ]
  },
  {
   "cell_type": "code",
   "execution_count": 98,
   "metadata": {
    "scrolled": true
   },
   "outputs": [
    {
     "data": {
      "text/plain": [
       "<matplotlib.collections.LineCollection at 0x7fbf34f6af50>"
      ]
     },
     "execution_count": 98,
     "metadata": {},
     "output_type": "execute_result"
    },
    {
     "data": {
      "image/png": "[encoded data removed]",
      "text/plain": [
       "<Figure size 432x288 with 1 Axes>"
      ]
     },
     "metadata": {
      "needs_background": "light"
     },
     "output_type": "display_data"
    }
   ],
   "source": [
    "x = np.linspace(20,50,100)\n",
    "y = binom.cdf(x, n, p0)\n",
    "plt.plot(x,y,linewidth=2.5)\n",
    "\n",
    "# Coloration de l'aire sous la courbe de la fonction de répartition et ajout d'une ligne horizontale \n",
    "# au niveau alpha souhaité\n",
    "niveau = 0.15\n",
    "seuil_rejet = binom.ppf(niveau,n,p0)\n",
    "y2 = binom.cdf(x2, n, p0)\n",
    "plt.hlines(niveau,20,seuil_rejet,linewidth=1,linestyle=\"--\")\n",
    "plt.vlines(seuil_rejet,0,niveau,linewidth=1,linestyle=\"--\")"
   ]
  },
  {
   "cell_type": "markdown",
   "metadata": {},
   "source": [
    "### Puissance\n",
    "On va maintenant calculer la puissance du test pour chaque niveau $\\alpha$ défini précédemment. La puissance se calcule après avoir défini la région de rejet. On la calcule à l'aide de la fonction de répartition de la loi binomiale."
   ]
  },
  {
   "cell_type": "code",
   "execution_count": 43,
   "metadata": {},
   "outputs": [
    {
     "name": "stdout",
     "output_type": "stream",
     "text": [
      "[0.96705527 0.93873448 0.8946799  0.83186134 0.74957269]\n"
     ]
    }
   ],
   "source": [
    "puissance = binom.cdf(k,n,p1)\n",
    "print(puissance)"
   ]
  },
  {
   "cell_type": "markdown",
   "metadata": {},
   "source": [
    "L'erreur de deuxième espèce est définie comme $1-\\pi$ où $\\pi$ est la fonction puissance. On remarque effectivement qu'en augmentant l'erreur de première espèce (ou niveau) $\\alpha$, on diminue l'erreur de deuxième espèce, et vice versa."
   ]
  },
  {
   "cell_type": "code",
   "execution_count": 44,
   "metadata": {},
   "outputs": [
    {
     "name": "stdout",
     "output_type": "stream",
     "text": [
      "[0.03294473 0.06126552 0.1053201  0.16813866 0.25042731]\n"
     ]
    }
   ],
   "source": [
    "beta = 1-puissance\n",
    "print(beta)"
   ]
  },
  {
   "cell_type": "markdown",
   "metadata": {},
   "source": [
    "On peut visualiser le lien entre niveau et puissance à l'aide du graphe suivant :"
   ]
  },
  {
   "cell_type": "code",
   "execution_count": 143,
   "metadata": {},
   "outputs": [
    {
     "data": {
      "text/plain": [
       "<matplotlib.legend.Legend at 0x7fbf33cbe690>"
      ]
     },
     "execution_count": 143,
     "metadata": {},
     "output_type": "execute_result"
    },
    {
     "data": {
      "image/png": "[encoded data removed]",
      "text/plain": [
       "<Figure size 432x288 with 1 Axes>"
      ]
     },
     "metadata": {
      "needs_background": "light"
     },
     "output_type": "display_data"
    }
   ],
   "source": [
    "# valeurs des fonctions de répartition sous H0 et sous H1\n",
    "x = np.arange(0,50,1)\n",
    "pdfH0 = binom.pmf(x,n,p0)\n",
    "pdfH1 = binom.pmf(x,n,p1)\n",
    "\n",
    "# configuration du graphe\n",
    "fig, ax = plt.subplots()\n",
    "pdf0 = ax.plot(x,pdfH0,'o')\n",
    "ax.vlines(x,0,pdfH0,lw=1)\n",
    "pdf1 = ax.plot(x,pdfH1,'o')\n",
    "ax.vlines(x,0,pdfH1,lw=1)\n",
    "\n",
    "# Visualisation du niveau et de la puissance au niveau alpha souhaité\n",
    "niveau = alpha[1]\n",
    "seuil_rejet = binom.ppf(niveau,n,p0)\n",
    "x2 = np.arange(0,seuil_rejet,1)\n",
    "y2_H0 = binom.pmf(x2, n, p0)\n",
    "y2_H1 = binom.pmf(x2, n, p1)\n",
    "auc0 = ax.fill_between(x2,y2_H0,0,linewidth=2.5,alpha=1) # attention ici alpha est un paramètre de transparence graphique !\n",
    "auc1 = ax.fill_between(x2,y2_H1,0,linewidth=2.5,alpha=0.35)\n",
    "\n",
    "ax.legend((pdf0[0],auc0,pdf1[0],auc1), ('loi sous H0', 'Niveau', 'loi sous H1', 'Puissance'))"
   ]
  },
  {
   "cell_type": "code",
   "execution_count": null,
   "metadata": {},
   "outputs": [],
   "source": [
    "Et le lien entre erreur de première espèce se lit sur le graphe suivant :"
   ]
  },
  {
   "cell_type": "code",
   "execution_count": 148,
   "metadata": {},
   "outputs": [
    {
     "data": {
      "text/plain": [
       "<matplotlib.legend.Legend at 0x7fbf339a3750>"
      ]
     },
     "execution_count": 148,
     "metadata": {},
     "output_type": "execute_result"
    },
    {
     "data": {
      "image/png": "[encoded data removed]",
      "text/plain": [
       "<Figure size 432x288 with 1 Axes>"
      ]
     },
     "metadata": {
      "needs_background": "light"
     },
     "output_type": "display_data"
    }
   ],
   "source": [
    "# configuration du graphe\n",
    "fig, ax = plt.subplots()\n",
    "pdf0 = ax.plot(x,pdfH0,'o')\n",
    "ax.vlines(x,0,pdfH0,lw=1)\n",
    "pdf1 = ax.plot(x,pdfH1,'o')\n",
    "ax.vlines(x,0,pdfH1,lw=1)\n",
    "\n",
    "# Visualisation du niveau et de la puissance au niveau alpha souhaité\n",
    "niveau = alpha[1]\n",
    "seuil_rejet = \n",
    "x2 = np.arange(0,seuil_rejet,1)\n",
    "y2_H0 = binom.pmf(x2, n, p0)\n",
    "x3 = np.arange(seuil_rejet,50,1)\n",
    "y3_H1 = binom.pmf(x3, n, p1)\n",
    "auc0 = ax.fill_between(x2,y2_H0,0,linewidth=2.5,alpha=1) # attention ici alpha est un paramètre de transparence graphique !\n",
    "err2esp = ax.fill_between(x3,y3_H1,0,linewidth=2.5,alpha=0.4)\n",
    "\n",
    "ax.legend((pdf0[0],auc0,pdf1[0],err2esp), ('loi sous H0', 'Niveau', 'loi sous H1', 'Erreur de deuxième espèce'))"
   ]
  },
  {
   "cell_type": "markdown",
   "metadata": {},
   "source": [
    "## Test d'hypothèses composites\n",
    "\n",
    "### Test unilatéral\n",
    "\n",
    "Dans cette partie, on s'intéresse au test unilatéral suivant :\n",
    "$$ H_0 : p = p_0 \\quad \\text{ contre } \\quad H_1 : p > p_0.$$\n",
    "\n",
    "On a donc $\\Theta_0 = \\{p_0\\}$ et $\\Theta_1 = ]p_0,1]$.\n",
    "### Test bilatéral\n"
   ]
  }
 ],
 "metadata": {
  "kernelspec": {
   "display_name": "Python 3",
   "language": "python",
   "name": "python3"
  },
  "language_info": {
   "codemirror_mode": {
    "name": "ipython",
    "version": 3
   },
   "file_extension": ".py",
   "mimetype": "text/x-python",
   "name": "python",
   "nbconvert_exporter": "python",
   "pygments_lexer": "ipython3",
   "version": "3.7.4"
  },
  "toc": {
   "base_numbering": 1,
   "nav_menu": {},
   "number_sections": true,
   "sideBar": true,
   "skip_h1_title": true,
   "title_cell": "Table of Contents",
   "title_sidebar": "Table des matières",
   "toc_cell": false,
   "toc_position": {
    "height": "748px",
    "left": "574px",
    "top": "111.133px",
    "width": "370.6px"
   },
   "toc_section_display": true,
   "toc_window_display": true
  }
 },
 "nbformat": 4,
 "nbformat_minor": 2
}

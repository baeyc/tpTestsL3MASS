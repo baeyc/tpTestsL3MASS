{
 "cells": [
  {
   "cell_type": "markdown",
   "metadata": {},
   "source": [
    "# L3 MASS - TP 1 \n",
    "# Test d'hypothèses dans le modèle binomial"
   ]
  },
  {
   "cell_type": "code",
   "execution_count": 17,
   "metadata": {},
   "outputs": [],
   "source": [
    "# importation des librairies Python utiles\n",
    "from scipy import stats\n",
    "from scipy.stats import binom\n",
    "import matplotlib.pyplot as plt\n",
    "import numpy as np"
   ]
  },
  {
   "cell_type": "markdown",
   "metadata": {},
   "source": [
    "Dans ce TP, on se propose d'illustrer certains résultats théoriques étudiés en cours et en TD, dans le cadre du modèle binomial.\n",
    "\n",
    "On travaillera donc avec une suite de variables aléatoires $X_1, \\dots, X_n$, indépendantes et de même loi de Bernoulli $\\mathcal{B}(p)$, avec $p$ inconnu. On définit $S_n = \\sum_{i=1}^n X_i$.\n",
    "\n",
    "On considère le test d'hypothèse suivant :\n",
    "\n",
    "$$ H_0 : p \\in \\Theta_0 \\quad \\text{ contre } \\quad H_1 : p \\in \\Theta_1, $$\n",
    "\n",
    "où $\\Theta_0$ et $\\Theta_1$ sont deux sous-ensembles disjoints de $[0,1]$.\n",
    "\n",
    "## 1. Test d'hypothèses simples\n",
    "\n",
    "Dans cette partie, on s'intéresse au cas d'*hypothèses simples*, c'est-à-dire telles que $\\Theta_0$ et $\\Theta_1£ sont réduites à un singleton. On écrit alors :\n",
    "\n",
    "$$ H_0 : p = p_0 \\quad \\text{ contre } \\quad H_1 : p = p_1,$$\n",
    "\n",
    "et on a donc $\\Theta_0 = \\{p_0\\}$ et $\\Theta_1 = \\{p_1\\}$.\n",
    "\n",
    "### 1.1. Zone de rejet\n",
    "\n",
    "On reprend l'exemple de l'exercice 4 de la fiche de TD 1, où l'on a $n=50$, $p_0 = 3/4$ et $p_1=9/16$. On commence par définir ces quantités."
   ]
  },
  {
   "cell_type": "code",
   "execution_count": 4,
   "metadata": {},
   "outputs": [],
   "source": [
    "n = 50\n",
    "p0 = 3/4\n",
    "p1 = 9/16"
   ]
  },
  {
   "cell_type": "markdown",
   "metadata": {},
   "source": [
    "On va construire la région de rejet pour les niveaux suivants : 10%, 6%, 5%, 2% et 1%. On construit un vecteur qui va contenir ces valeurs."
   ]
  },
  {
   "cell_type": "code",
   "execution_count": 6,
   "metadata": {},
   "outputs": [
    {
     "data": {
      "text/plain": [
       "1.75"
      ]
     },
     "execution_count": 6,
     "metadata": {},
     "output_type": "execute_result"
    }
   ],
   "source": [
    "alpha = [0.10,0.06,0.05,0.02,0.01]"
   ]
  },
  {
   "cell_type": "markdown",
   "metadata": {},
   "source": [
    "La région de rejet est de la forme $\\{S_n \\leq k_\\alpha\\}$. On calcule $k_\\alpha$ à l'aide de la fonction ppf (inverse de la fonction de répartition):"
   ]
  },
  {
   "cell_type": "code",
   "execution_count": 72,
   "metadata": {},
   "outputs": [],
   "source": [
    "k = binom.ppf(alpha,n,p0)"
   ]
  },
  {
   "cell_type": "markdown",
   "metadata": {},
   "source": [
    "Traçons la fonction de répartition de la loi binomiale de paramètres $n=50$ et $p=p_0$. "
   ]
  },
  {
   "cell_type": "code",
   "execution_count": 56,
   "metadata": {},
   "outputs": [
    {
     "data": {
      "image/png": "[encoded data removed]",
      "text/plain": [
       "<Figure size 432x288 with 1 Axes>"
      ]
     },
     "metadata": {},
     "output_type": "display_data"
    }
   ],
   "source": [
    "x = np.linspace(20,50,100)\n",
    "plt.plot(x,binom.cdf(x, n, p0), linewidth=2.5)\n",
    "plt.show()"
   ]
  },
  {
   "cell_type": "markdown",
   "metadata": {},
   "source": [
    "On peut visualiser le niveau du test en colorant l'aire sous la courbe. On pourra modifier le niveau pour voir les différences"
   ]
  },
  {
   "cell_type": "code",
   "execution_count": 73,
   "metadata": {
    "scrolled": true
   },
   "outputs": [
    {
     "data": {
      "text/plain": [
       "<matplotlib.collections.LineCollection at 0x7fd64090e5d0>"
      ]
     },
     "execution_count": 73,
     "metadata": {},
     "output_type": "execute_result"
    },
    {
     "data": {
      "image/png": "[encoded data removed]",
      "text/plain": [
       "<Figure size 432x288 with 1 Axes>"
      ]
     },
     "metadata": {},
     "output_type": "display_data"
    }
   ],
   "source": [
    "y = binom.cdf(x, n, p0)\n",
    "plt.plot(x,y,linewidth=2.5)\n",
    "\n",
    "# Coloration de l'aire sous la courbe de la fonction de répartition et ajout d'une ligne horizontale \n",
    "# au niveau alpha souhaité\n",
    "niveau = alpha[1]\n",
    "x2 = np.linspace(20,k[1],100)\n",
    "y2 = binom.cdf(x2, n, p0)\n",
    "plt.fill_between(x2,y2,0,linewidth=2.5)\n",
    "plt.hlines(0.1,20,k[1],linewidth=2,linestyle=\"--\")"
   ]
  },
  {
   "cell_type": "markdown",
   "metadata": {},
   "source": [
    "### 1.2. Puissance\n",
    "On va maintenant calculer la puissance du test pour chaque niveau $\\alpha$ défini précédemment. La puissance se calcule après avoir défini la région de rejet. On la calcule à l'aide de la fonction de répartition de la loi binomiale."
   ]
  },
  {
   "cell_type": "code",
   "execution_count": 76,
   "metadata": {},
   "outputs": [
    {
     "name": "stdout",
     "output_type": "stream",
     "text": [
      "[0.96705527 0.93873448 0.8946799  0.83186134 0.74957269]\n"
     ]
    }
   ],
   "source": [
    "puissance = binom.cdf(k,n,p1)\n",
    "print(puissance)"
   ]
  },
  {
   "cell_type": "markdown",
   "metadata": {},
   "source": [
    "*Calculer l'erreur de deuxième espèce*"
   ]
  },
  {
   "cell_type": "markdown",
   "metadata": {},
   "source": [
    "## 2. Test d'hypothèses composites\n",
    "\n",
    "### 2.1. Test unilatéral\n",
    "\n",
    "Dans cette partie, on s'intéresse au test unilatéral suivant :\n",
    "$$ H_0 : p = p_0 \\quad \\text{ contre } \\quad H_1 : p > p_0.$$\n",
    "\n",
    "On a donc $\\Theta_0 = \\{p_0\\}$ et $\\Theta_1 = ]p_0,1]$.\n",
    "### 2.2. Test bilatéral\n"
   ]
  }
 ],
 "metadata": {
  "kernelspec": {
   "display_name": "Python 3",
   "language": "python",
   "name": "python3"
  },
  "language_info": {
   "codemirror_mode": {
    "name": "ipython",
    "version": 3
   },
   "file_extension": ".py",
   "mimetype": "text/x-python",
   "name": "python",
   "nbconvert_exporter": "python",
   "pygments_lexer": "ipython3",
   "version": "3.7.4"
  }
 },
 "nbformat": 4,
 "nbformat_minor": 2
}

{
 "cells": [
  {
   "cell_type": "markdown",
   "metadata": {},
   "source": [
    "# Test d'hypothèses dans le modèle binomial"
   ]
  },
  {
   "cell_type": "markdown",
   "metadata": {},
   "source": [
    "Dans ce TP, on se propose d'illustrer certains résultats théoriques étudiés en cours et en TD, dans le cadre du modèle binomial.\n",
    "\n",
    "On travaillera donc avec une suite de variables aléatoires $X_1, \\dots, X_n$, indépendantes et de même loi de Bernoulli $\\mathcal{B}(p)$, avec $p$ inconnu. On définit $S_n = \\sum_{i=1}^n X_i$.\n",
    "\n",
    "On considère le test d'hypothèse suivant :\n",
    "\n",
    "$$ H_0 : p \\in \\Theta_0 \\quad \\text{ contre } \\quad H_1 : p \\in \\Theta_1, $$\n",
    "\n",
    "où $\\Theta_0$ et $\\Theta_1$ sont deux sous-ensembles disjoints de $[0,1]$.\n",
    "\n",
    "## Test d'hypothèses simples\n",
    "\n",
    "Dans cette partie, on s'intéresse au cas d'*hypothèses simples*, c'est-à-dire telles que $\\Theta_0$ et $\\Theta_1£ sont réduites à un singleton. On écrit alors :\n",
    "\n",
    "$$ H_0 : p = p_0 \\quad \\text{ contre } \\quad H_1 : p = p_1,$$\n",
    "\n",
    "et on a donc $\\Theta_0 = \\{p_0\\}$ et $\\Theta_1 = \\{p_1\\}$.\n",
    "\n",
    "### Zone de rejet\n",
    "\n",
    "On reprend l'exemple de l'exercice 4 de la fiche de TD 1, où l'on a $n=50$, $p_0 = 3/4$ et $p_1=9/16$. On commence par définir ces quantités."
   ]
  },
  {
   "cell_type": "code",
   "execution_count": 2,
   "metadata": {},
   "outputs": [],
   "source": [
    "# importation des librairies Python utiles\n",
    "from scipy import stats\n",
    "from scipy.stats import binom, poisson, norm\n",
    "import matplotlib.pyplot as plt\n",
    "import numpy as np\n",
    "import math"
   ]
  },
  {
   "cell_type": "code",
   "execution_count": 3,
   "metadata": {},
   "outputs": [],
   "source": [
    "n = 50\n",
    "p0 = 3/4\n",
    "p1 = 9/16"
   ]
  },
  {
   "cell_type": "markdown",
   "metadata": {},
   "source": [
    "On va construire la région de rejet pour les niveaux suivants : 10%, 6%, 5%, 2% et 1%. On construit un vecteur qui va contenir ces valeurs."
   ]
  },
  {
   "cell_type": "code",
   "execution_count": 66,
   "metadata": {},
   "outputs": [],
   "source": [
    "alpha = [0.10,0.06,0.05,0.02,0.01]"
   ]
  },
  {
   "cell_type": "markdown",
   "metadata": {},
   "source": [
    "La région de rejet est de la forme $\\{S_n \\leq k_\\alpha\\}$. On calcule $k_\\alpha$ à l'aide de la fonction ppf (inverse de la fonction de répartition):"
   ]
  },
  {
   "cell_type": "code",
   "execution_count": 5,
   "metadata": {},
   "outputs": [],
   "source": [
    "k = binom.ppf(alpha,n,p0)"
   ]
  },
  {
   "cell_type": "markdown",
   "metadata": {},
   "source": [
    "Traçons la fonction de répartition de la loi binomiale de paramètres $n=50$ et $p=p_0$. "
   ]
  },
  {
   "cell_type": "code",
   "execution_count": 6,
   "metadata": {},
   "outputs": [
    {
     "data": {
      "image/png": "[encoded data removed]",
      "text/plain": [
       "<Figure size 432x288 with 1 Axes>"
      ]
     },
     "metadata": {
      "needs_background": "light"
     },
     "output_type": "display_data"
    }
   ],
   "source": [
    "x = np.linspace(20,50,100)\n",
    "plt.plot(x,binom.cdf(x, n, p0), linewidth=2.5)\n",
    "plt.show()"
   ]
  },
  {
   "cell_type": "markdown",
   "metadata": {},
   "source": [
    "On peut visualiser le lien entre niveau du test et région de rejet."
   ]
  },
  {
   "cell_type": "code",
   "execution_count": 7,
   "metadata": {
    "scrolled": true
   },
   "outputs": [
    {
     "data": {
      "text/plain": [
       "<matplotlib.collections.LineCollection at 0x7fb9a9fb1f90>"
      ]
     },
     "execution_count": 7,
     "metadata": {},
     "output_type": "execute_result"
    },
    {
     "data": {
      "image/png": "[encoded data removed]",
      "text/plain": [
       "<Figure size 432x288 with 1 Axes>"
      ]
     },
     "metadata": {
      "needs_background": "light"
     },
     "output_type": "display_data"
    }
   ],
   "source": [
    "x = np.linspace(20,50,100)\n",
    "y = binom.cdf(x, n, p0)\n",
    "plt.plot(x,y,linewidth=2.5)\n",
    "\n",
    "# Coloration de l'aire sous la courbe de la fonction de répartition et ajout d'une ligne horizontale \n",
    "# au niveau alpha souhaité\n",
    "niveau = 0.15\n",
    "seuil_rejet = binom.ppf(niveau,n,p0)\n",
    "plt.hlines(niveau,20,seuil_rejet,linewidth=1,linestyle=\"--\")\n",
    "plt.vlines(seuil_rejet,0,niveau,linewidth=1,linestyle=\"--\")"
   ]
  },
  {
   "cell_type": "markdown",
   "metadata": {},
   "source": [
    "### Puissance\n",
    "On va maintenant calculer la puissance du test pour chaque niveau $\\alpha$ défini précédemment. La puissance se calcule après avoir défini la région de rejet. On la calcule à l'aide de la fonction de répartition de la loi binomiale."
   ]
  },
  {
   "cell_type": "code",
   "execution_count": 61,
   "metadata": {},
   "outputs": [
    {
     "name": "stdout",
     "output_type": "stream",
     "text": [
      "[6.07371108e-06 2.33533872e-06 8.59828565e-07 3.02895811e-07\n",
      " 1.02005413e-07]\n"
     ]
    }
   ],
   "source": [
    "puissance = binom.cdf(k,n,p1)\n",
    "print(puissance)"
   ]
  },
  {
   "cell_type": "markdown",
   "metadata": {},
   "source": [
    "L'erreur de deuxième espèce est définie comme $1-\\pi$ où $\\pi$ est la fonction puissance. On remarque effectivement qu'en augmentant l'erreur de première espèce (ou niveau) $\\alpha$, on diminue l'erreur de deuxième espèce, et vice versa."
   ]
  },
  {
   "cell_type": "code",
   "execution_count": 62,
   "metadata": {},
   "outputs": [
    {
     "name": "stdout",
     "output_type": "stream",
     "text": [
      "[0.99999393 0.99999766 0.99999914 0.9999997  0.9999999 ]\n"
     ]
    }
   ],
   "source": [
    "beta = 1-puissance\n",
    "print(beta)"
   ]
  },
  {
   "cell_type": "markdown",
   "metadata": {},
   "source": [
    "On peut visualiser le lien entre niveau et puissance à l'aide du graphe suivant :"
   ]
  },
  {
   "cell_type": "code",
   "execution_count": 63,
   "metadata": {},
   "outputs": [
    {
     "ename": "TypeError",
     "evalue": "'float' object is not subscriptable",
     "output_type": "error",
     "traceback": [
      "\u001b[0;31m---------------------------------------------------------------------------\u001b[0m",
      "\u001b[0;31mTypeError\u001b[0m                                 Traceback (most recent call last)",
      "\u001b[0;32m<ipython-input-63-f3ee268d2cd9>\u001b[0m in \u001b[0;36m<module>\u001b[0;34m\u001b[0m\n\u001b[1;32m     12\u001b[0m \u001b[0;34m\u001b[0m\u001b[0m\n\u001b[1;32m     13\u001b[0m \u001b[0;31m# Visualisation du niveau et de la puissance au niveau alpha souhaité\u001b[0m\u001b[0;34m\u001b[0m\u001b[0;34m\u001b[0m\u001b[0;34m\u001b[0m\u001b[0m\n\u001b[0;32m---> 14\u001b[0;31m \u001b[0mniveau\u001b[0m \u001b[0;34m=\u001b[0m \u001b[0malpha\u001b[0m\u001b[0;34m[\u001b[0m\u001b[0;36m1\u001b[0m\u001b[0;34m]\u001b[0m\u001b[0;34m\u001b[0m\u001b[0;34m\u001b[0m\u001b[0m\n\u001b[0m\u001b[1;32m     15\u001b[0m \u001b[0mseuil_rejet\u001b[0m \u001b[0;34m=\u001b[0m \u001b[0mbinom\u001b[0m\u001b[0;34m.\u001b[0m\u001b[0mppf\u001b[0m\u001b[0;34m(\u001b[0m\u001b[0mniveau\u001b[0m\u001b[0;34m,\u001b[0m\u001b[0mn\u001b[0m\u001b[0;34m,\u001b[0m\u001b[0mp0\u001b[0m\u001b[0;34m)\u001b[0m\u001b[0;34m\u001b[0m\u001b[0;34m\u001b[0m\u001b[0m\n\u001b[1;32m     16\u001b[0m \u001b[0mx2\u001b[0m \u001b[0;34m=\u001b[0m \u001b[0mnp\u001b[0m\u001b[0;34m.\u001b[0m\u001b[0marange\u001b[0m\u001b[0;34m(\u001b[0m\u001b[0;36m0\u001b[0m\u001b[0;34m,\u001b[0m\u001b[0mseuil_rejet\u001b[0m\u001b[0;34m,\u001b[0m\u001b[0;36m1\u001b[0m\u001b[0;34m)\u001b[0m\u001b[0;34m\u001b[0m\u001b[0;34m\u001b[0m\u001b[0m\n",
      "\u001b[0;31mTypeError\u001b[0m: 'float' object is not subscriptable"
     ]
    },
    {
     "data": {
      "image/png": "[encoded data removed]",
      "text/plain": [
       "<Figure size 432x288 with 1 Axes>"
      ]
     },
     "metadata": {
      "needs_background": "light"
     },
     "output_type": "display_data"
    }
   ],
   "source": [
    "# valeurs des fonctions de répartition sous H0 et sous H1\n",
    "x = np.arange(0,50,1)\n",
    "pdfH0 = binom.pmf(x,n,p0)\n",
    "pdfH1 = binom.pmf(x,n,p1)\n",
    "\n",
    "# configuration du graphe\n",
    "fig, ax = plt.subplots()\n",
    "pdf0 = ax.plot(x,pdfH0,'o')\n",
    "ax.vlines(x,0,pdfH0,lw=1)\n",
    "pdf1 = ax.plot(x,pdfH1,'o')\n",
    "ax.vlines(x,0,pdfH1,lw=1)\n",
    "\n",
    "# Visualisation du niveau et de la puissance au niveau alpha souhaité\n",
    "niveau = alpha[1]\n",
    "seuil_rejet = binom.ppf(niveau,n,p0)\n",
    "x2 = np.arange(0,seuil_rejet,1)\n",
    "y2_H0 = binom.pmf(x2, n, p0)\n",
    "y2_H1 = binom.pmf(x2, n, p1)\n",
    "auc0 = ax.fill_between(x2,y2_H0,0,linewidth=2.5,alpha=1) # attention ici alpha est un paramètre de transparence graphique !\n",
    "auc1 = ax.fill_between(x2,y2_H1,0,linewidth=2.5,alpha=0.35)\n",
    "\n",
    "ax.legend((pdf0[0],auc0,pdf1[0],auc1), ('loi sous H0', 'Niveau', 'loi sous H1', 'Puissance'))"
   ]
  },
  {
   "cell_type": "markdown",
   "metadata": {},
   "source": [
    "Et le lien entre erreur de première espèce se lit sur le graphe suivant :"
   ]
  },
  {
   "cell_type": "code",
   "execution_count": 69,
   "metadata": {},
   "outputs": [
    {
     "data": {
      "text/plain": [
       "<matplotlib.legend.Legend at 0x7fb9a9c3bf50>"
      ]
     },
     "execution_count": 69,
     "metadata": {},
     "output_type": "execute_result"
    },
    {
     "data": {
      "image/png": "[encoded data removed]",
      "text/plain": [
       "<Figure size 432x288 with 1 Axes>"
      ]
     },
     "metadata": {
      "needs_background": "light"
     },
     "output_type": "display_data"
    }
   ],
   "source": [
    "# configuration du graphe\n",
    "pdf0 = plt.plot(x,pdfH0,'o')\n",
    "plt.vlines(x,0,pdfH0,lw=1)\n",
    "pdf1 = plt.plot(x,pdfH1,'o')\n",
    "plt.vlines(x,0,pdfH1,lw=1)\n",
    "\n",
    "# Visualisation du niveau et de la puissance au niveau alpha souhaité\n",
    "niveau = alpha[1]\n",
    "seuil_rejet = binom.ppf(niveau,n,p0)\n",
    "x2 = np.arange(0,seuil_rejet,1)\n",
    "y2_H0 = binom.pmf(x2, n, p0)\n",
    "x3 = np.arange(seuil_rejet,50,1)\n",
    "y3_H1 = binom.pmf(x3, n, p1)\n",
    "auc0 = ax.fill_between(x2,y2_H0,0,linewidth=2.5,alpha=1) # attention ici alpha est un paramètre de transparence graphique !\n",
    "err2esp = ax.fill_between(x3,y3_H1,0,linewidth=2.5,alpha=0.4)\n",
    "\n",
    "ax.legend((pdf0[0],auc0,pdf1[0],err2esp), ('loi sous H0', 'Niveau', 'loi sous H1', 'Erreur de deuxième espèce'))"
   ]
  },
  {
   "cell_type": "markdown",
   "metadata": {},
   "source": [
    "On peut tracer la puissance en fonction de $n$. Pour cela, fixons le niveau du test, et calculons le seuil de rejet correspondant ainsi que la puissance associée, pour différentes valeurs de $n$ allant de 10 à 200. On peut superposer plusieurs courbes sur le même graphe, correspondant à différentes valeurs pour le niveau."
   ]
  },
  {
   "cell_type": "code",
   "execution_count": 25,
   "metadata": {},
   "outputs": [
    {
     "name": "stdout",
     "output_type": "stream",
     "text": [
      "[  6.   9.  12.  16.  19.  23.  26.  30.  34.  37.  41.  44.  48.  51.\n",
      "  55.  59.  62.  66.  69.  73.  77.  80.  84.  87.  91.  95.  98. 102.\n",
      " 106. 109. 113. 117. 120. 124. 128. 131. 135. 138.]\n",
      "[0.6        0.6        0.6        0.64       0.63333333 0.65714286\n",
      " 0.65       0.66666667 0.68       0.67272727 0.68333333 0.67692308\n",
      " 0.68571429 0.68       0.6875     0.69411765 0.68888889 0.69473684\n",
      " 0.69       0.6952381  0.7        0.69565217 0.7        0.696\n",
      " 0.7        0.7037037  0.7        0.70344828 0.70666667 0.70322581\n",
      " 0.70625    0.70909091 0.70588235 0.70857143 0.71111111 0.70810811\n",
      " 0.71052632 0.70769231]\n"
     ]
    },
    {
     "data": {
      "text/plain": [
       "<matplotlib.legend.Legend at 0x7f989c4fe090>"
      ]
     },
     "execution_count": 25,
     "metadata": {},
     "output_type": "execute_result"
    },
    {
     "data": {
      "image/png": "[encoded data removed]",
      "text/plain": [
       "<Figure size 432x288 with 1 Axes>"
      ]
     },
     "metadata": {
      "needs_background": "light"
     },
     "output_type": "display_data"
    }
   ],
   "source": [
    "niveau = 0.10\n",
    "n = np.arange(10,200,5)\n",
    "seuil_rejet =  binom.ppf(niveau,n,p0)\n",
    "print(seuil_rejet)\n",
    "# si on ramène le seuil de rejet à une proportion entre 0 et 1, on s'aperçoit que ce seuil augmente lorsque n \n",
    "# augmente : autrement dit, plus n est grand, plus on est capable de détecter de petites différences entre\n",
    "# H0 et H1. Avec n=10000, on rejette si on observe une proportion inférieure ou égale à 74,29% au lieu de 75%\n",
    "# sous H0.\n",
    "print(seuil_rejet/n)\n",
    "\n",
    "plt.plot(n,binom.cdf(seuil_rejet,n,p1), label=\"niveau 0.10\")\n",
    "\n",
    "niveau = 0.20\n",
    "seuil_rejet =  binom.ppf(niveau,n,p0)\n",
    "plt.plot(n,binom.cdf(seuil_rejet,n,p1), label=\"niveau 0.20\")\n",
    "plt.legend()"
   ]
  },
  {
   "cell_type": "markdown",
   "metadata": {},
   "source": [
    "## Test d'hypothèses composites\n",
    "\n",
    "On s'intéresse d'abord au test unilatéral suivant :\n",
    "$$ H_0 : p = p_0 \\quad \\text{ contre } \\quad H_1 : p > p_0.$$\n",
    "\n",
    "On a donc $\\Theta_0 = \\{p_0\\}$ et $\\Theta_1 = ]p_0,1]$.\n",
    "\n",
    "On reprend l'exercice 6 sur le lancer d'une pièce de monnaie. On veut tester l'hypothèse nulle selon laquelle la pièce est équilibrée, contre l'hypothèse alternative selon laquelle elle est truquée et renvoie plus de \"piles\" que de \"faces\"."
   ]
  },
  {
   "cell_type": "markdown",
   "metadata": {},
   "source": [
    "### Puissance\n",
    "On s'intéresse tout d'abord à la puissance. On trace la fonction puissance en fonction de $p$, pour $n=20$ et $\\alpha=5\\%$ (taille du test)."
   ]
  },
  {
   "cell_type": "code",
   "execution_count": 47,
   "metadata": {},
   "outputs": [
    {
     "name": "stdout",
     "output_type": "stream",
     "text": [
      "8.0\n",
      "14.0\n",
      "31.0\n"
     ]
    },
    {
     "data": {
      "text/plain": [
       "<matplotlib.legend.Legend at 0x7f989c64bd10>"
      ]
     },
     "execution_count": 47,
     "metadata": {},
     "output_type": "execute_result"
    },
    {
     "data": {
      "image/png": "[encoded data removed]",
      "text/plain": [
       "<Figure size 432x288 with 1 Axes>"
      ]
     },
     "metadata": {
      "needs_background": "light"
     },
     "output_type": "display_data"
    }
   ],
   "source": [
    "# construction de la région de rejet\n",
    "n=10\n",
    "niveau=0.05\n",
    "seuil_rejet = binom.ppf(0.95,n,0.5)\n",
    "print(seuil_rejet)\n",
    "\n",
    "# calcul de la puissance, une fois que la zone de rejet a été définie\n",
    "p1 = np.arange(0.5,1,0.01)\n",
    "puissance = 1-binom.cdf(seuil_rejet,n,p1)\n",
    "\n",
    "plt.plot(p1,puissance,label=\"n=10\")\n",
    "\n",
    "# on peut aussi faire varier n comme dans la question précédente\n",
    "n=20\n",
    "seuil_rejet = binom.ppf(0.95,n,0.5)\n",
    "print(seuil_rejet)\n",
    "\n",
    "puissance = 1-binom.cdf(seuil_rejet,n,p1)\n",
    "\n",
    "plt.plot(p1,puissance,label=\"n=20\")\n",
    "\n",
    "n=50\n",
    "seuil_rejet = binom.ppf(0.95,n,0.5)\n",
    "print(seuil_rejet)\n",
    "\n",
    "puissance = 1-binom.cdf(seuil_rejet,n,p1)\n",
    "\n",
    "plt.plot(p1,puissance,label=\"n=50\")\n",
    "\n",
    "plt.legend()"
   ]
  },
  {
   "cell_type": "markdown",
   "metadata": {},
   "source": [
    "### Simulations\n",
    "Dans cette partie, on va simuler plusieurs réalisations de l'expérience aléatoire consistant à lancer $n$ fois une pièce de monnaie. On note $M$ le nombre d'expériences aléatoires, c'est-à-dire le nombre de fois où on effectue $n$ lancers de pièce. On prend $n=10$.\n",
    "Pour $m=1,\\dots,M$, on va :\n",
    " * générer $n$ réalisations de variables aléatoires de Bernoulli de paramètre $p=0.5$\n",
    " * calculer la $m$-ème statistique de test basée sur ces $n$ observations\n",
    " * compter 1 si on rejette $H_0$ et 0 sinon\n",
    "Après les $M$ tirages, on aura compté le nombre de fois où on a rejeter $H_0$. Comme on a dait toutes nos simulations en utilisant $p=0.5$, on s'est placé dans le cas où $H_0$ était vraie. On compte donc le nombre de fois où on a rejeté à tort. Ce nombre devrait être inférieur ou égal à $0.05*M$."
   ]
  },
  {
   "cell_type": "code",
   "execution_count": 77,
   "metadata": {},
   "outputs": [
    {
     "name": "stdout",
     "output_type": "stream",
     "text": [
      "0.011\n"
     ]
    }
   ],
   "source": [
    "# on calcule la zone de rejet\n",
    "n=10\n",
    "niveau=0.05\n",
    "seuil_rejet = binom.ppf(0.95,n,0.5)\n",
    "\n",
    "nb_rejet = 0\n",
    "M=1000\n",
    "for m in range(1,M):\n",
    "    echantillon = binom.rvs(10,0.5)\n",
    "    stat_test = np.sum(echantillon)\n",
    "    if stat_test > seuil_rejet: \n",
    "        nb_rejet+=1\n",
    "\n",
    "print(nb_rejet/M)"
   ]
  },
  {
   "cell_type": "markdown",
   "metadata": {},
   "source": [
    "### Croissance de l'erreur de première espèce\n",
    "Dans l'exercice 5, on a montré que l'erreur de première espèce pour le test défini par :\n",
    "$$ H_0 : p \\leq p_0 \\quad \\text{contre} \\quad H_1 : p > p_0$$\n",
    "\n",
    "est une fonction croissance en $p$. On peut le voir en traçant la valeur de $\\mathbb{P}_{p}(S_n \\geq a)$, où $a$ est un seuil de rejet fixé, en fonction de $p$."
   ]
  },
  {
   "cell_type": "code",
   "execution_count": 68,
   "metadata": {},
   "outputs": [
    {
     "data": {
      "text/plain": [
       "[<matplotlib.lines.Line2D at 0x7f5fef641c10>]"
      ]
     },
     "execution_count": 68,
     "metadata": {},
     "output_type": "execute_result"
    },
    {
     "data": {
      "image/png": "[encoded data removed]",
      "text/plain": [
       "<Figure size 432x288 with 1 Axes>"
      ]
     },
     "metadata": {
      "needs_background": "light"
     },
     "output_type": "display_data"
    }
   ],
   "source": [
    "n=10\n",
    "niveau=0.05\n",
    "seuil_rejet = binom.ppf(0.95,n,0.5)\n",
    "p = np.linspace(0,0.3,100)\n",
    "err1esp = 1-binom.cdf(seuil_rejet-1,n,p)\n",
    "\n",
    "plt.plot(p,err1esp)"
   ]
  },
  {
   "cell_type": "markdown",
   "metadata": {},
   "source": [
    "## Approximation par la loi de Poisson\n",
    "On s'intéresse dans cette partie à l'approximation de la loi Binomiale par la loi de Poisson. Cette approximation est valable pour une suite de variables aléatoires de loi $\\mathcal{B}(n,p_n)$ avec $\\lim\\limits_{\\substack{n \\rightarrow + \\infty}} np_n = \\lambda > 0$. En pratique, elle est donc utilisée pour $n$ grand et $p$ petit.\n",
    "\n",
    "On compare ci-dessous les distributions de la loi Binomiale $\\mathcal{B}(n,p)$ et de la loi de Poisson $\\mathcal{P}(np)$, pour différentes valeurs de $n$ et $p$."
   ]
  },
  {
   "cell_type": "code",
   "execution_count": 55,
   "metadata": {},
   "outputs": [
    {
     "name": "stdout",
     "output_type": "stream",
     "text": [
      "1.0\n",
      "[3.66032341e-01 3.69729638e-01 1.84864819e-01 6.09991658e-02\n",
      " 1.49417149e-02 2.89778712e-03 4.63450803e-04 6.28634566e-05\n",
      " 7.38169377e-06 7.62195092e-07]\n",
      "[3.67879441e-01 3.67879441e-01 1.83939721e-01 6.13132402e-02\n",
      " 1.53283100e-02 3.06566201e-03 5.10943668e-04 7.29919526e-05\n",
      " 9.12399408e-06 1.01377712e-06]\n"
     ]
    },
    {
     "data": {
      "image/png": "[encoded data removed]",
      "text/plain": [
       "<Figure size 432x288 with 1 Axes>"
      ]
     },
     "metadata": {
      "needs_background": "light"
     },
     "output_type": "display_data"
    }
   ],
   "source": [
    "n=100\n",
    "p=0.01\n",
    "print(n*p)\n",
    "\n",
    "x = np.arange(0,10,1)\n",
    "ybinom = binom.pmf(x,n,p)\n",
    "ypoiss = poisson.pmf(x,n*p)\n",
    "\n",
    "plbin = plt.plot(x,ybinom,'o')\n",
    "plt.vlines(x,0,ybinom,lw=1)\n",
    "plpois = plt.plot(x+0.25,ypoiss,'o')\n",
    "plt.vlines(x+0.25,0,ypoiss,lw=1)\n",
    "\n",
    "# autre solution :\n",
    "#plbin = plt.bar(x,ybinom,width=0.15)\n",
    "#plpois = plt.bar(x+0.25,ypoiss,width=0.15)\n",
    "\n",
    "print(ybinom)\n",
    "print(ypoiss)"
   ]
  },
  {
   "cell_type": "markdown",
   "metadata": {},
   "source": [
    "Là aussi, on peut montrer la croissance en $\\theta$ de la fonction $\\mathbb{P}_{\\theta}(X \\geq a)$ pour $a$ fixé et $X$ de loi de Poisson."
   ]
  },
  {
   "cell_type": "code",
   "execution_count": 67,
   "metadata": {},
   "outputs": [
    {
     "data": {
      "text/plain": [
       "[<matplotlib.lines.Line2D at 0x7f5fef665490>]"
      ]
     },
     "execution_count": 67,
     "metadata": {},
     "output_type": "execute_result"
    },
    {
     "data": {
      "image/png": "[encoded data removed]",
      "text/plain": [
       "<Figure size 432x288 with 1 Axes>"
      ]
     },
     "metadata": {
      "needs_background": "light"
     },
     "output_type": "display_data"
    }
   ],
   "source": [
    "theta = np.linspace(0.1,10,100)\n",
    "a = 5\n",
    "\n",
    "err1esp = 1-poisson.cdf(a-1,theta)\n",
    "\n",
    "plt.plot(theta,err1esp)"
   ]
  },
  {
   "cell_type": "markdown",
   "metadata": {},
   "source": [
    "## Approximation par la loi normale\n",
    "On s'intéresse maintenant à l'approximation de la loi binomiale par la loi normale. Cette approximation est valable lorsque $n$ est grand, quelle que soit la valeur de $p$. Lorsque $n$ est grand et $p$ petit, avec $\\lim\\limits_{\\substack{n \\rightarrow + \\infty}} np_n = \\lambda > 0$, si le $\\lambda$ est grand, la loi de Poisson du paragraphe précédent peut également être approchée par la loi normale. Dans la pratique, on prendra l'approximation par la loi de Poisson si $\\lambda$ est relativement faible (par ex. $<10$) et l'approximation par la loi normale si lambda est élevé (par ex. $> 10$).\n",
    "\n",
    "Pour illustrer cette approximation, basée sur le théorème central limite, on génère plusieurs variables aléatoires de loi $\\mathcal{B}(n,p)$ pour $n$ grand, et on trace l'histogramme des valeurs obtenues, que l'on compare à la densité de la loi normale centrée réduite. \n",
    "\n",
    "Faire varier $n$ et $p$ pour identifier les cas où l'approximation est meilleure."
   ]
  },
  {
   "cell_type": "code",
   "execution_count": 11,
   "metadata": {},
   "outputs": [
    {
     "name": "stdout",
     "output_type": "stream",
     "text": [
      "1.0\n"
     ]
    },
    {
     "data": {
      "text/plain": [
       "[<matplotlib.lines.Line2D at 0x7fb9a9d08fd0>]"
      ]
     },
     "execution_count": 11,
     "metadata": {},
     "output_type": "execute_result"
    },
    {
     "data": {
      "image/png": "[encoded data removed]",
      "text/plain": [
       "<Figure size 432x288 with 1 Axes>"
      ]
     },
     "metadata": {
      "needs_background": "light"
     },
     "output_type": "display_data"
    }
   ],
   "source": [
    "n=100\n",
    "p=0.01\n",
    "print(n*p)\n",
    "x = binom.rvs(n,p,size=10000)\n",
    "\n",
    "plt.hist(x,bins=15,density=True)\n",
    "xabs = np.linspace(min(x), max(x), 1000)\n",
    "plt.plot(xabs, norm.pdf(xabs, n*p, math.sqrt(n*p*(1-p))),'r-', lw=3, alpha=0.9, label='norm pdf')\n"
   ]
  },
  {
   "cell_type": "markdown",
   "metadata": {},
   "source": [
    "## Tests asymptotiques\n",
    "\n",
    "Dans cette partie, on va comparer les tests exacts aux tests asymptotiques. Pour cela, on considère le test d'hypothèses composites suivant :\n",
    "$$ H_0 : p=p_0 \\quad \\text{contre} \\quad H_1 : p \\neq p_0.$$\n",
    "\n",
    "La région de rejet est de la forme : $\\{S_n \\leq c_{1,\\alpha} \\text{ ou } S_n \\geq c_{2,\\alpha} \\}$. Le test exact repose sur la loi exacte de $S_n$, qui est une binomiale $\\mathcal{B}(n,p)$ et le test asymptotique repose sur la loi limite de $S_n$ donnée par le T.C.L. :\n",
    "$$ \\frac{S_n - np}{\\sqrt{n p (1-p)}} \\underset{n \\to +\\infty}{\\overset{\\mathcal{L}}{\\longrightarrow}} Z, \\quad Z \\sim \\mathcal{N}(0,1).$$\n",
    "\n",
    "On peut aussi comparer avec l'approximation par la loi de Poisson."
   ]
  },
  {
   "cell_type": "code",
   "execution_count": 40,
   "metadata": {},
   "outputs": [
    {
     "name": "stdout",
     "output_type": "stream",
     "text": [
      "Test exact :\n",
      "region de rejet : Sn inférieure ou égale à 37.0 ou Sn supérieure ou égale à 63.0\n",
      "\n",
      "Test asymptotique (approx. par loi normale) :\n",
      "region de rejet : Sn inférieure ou égale à 36 ou Sn supérieure ou égale à 63\n",
      "\n",
      "Test asymptotique (approx par loi de Poisson) :\n",
      "region de rejet : Sn inférieure ou égale à 37.0 ou Sn supérieure ou égale à 63.0\n"
     ]
    }
   ],
   "source": [
    "n = 500\n",
    "p0 = 0.1\n",
    "alpha = 0.05\n",
    "\n",
    "# test exact -> région de rejet définie par les quantiles de la loi binomiale\n",
    "seuil_exact_1 = binom.ppf(alpha/2,n,p0)\n",
    "seuil_exact_2 = binom.ppf(1-alpha/2,n,p0)\n",
    "\n",
    "print(\"Test exact :\")\n",
    "print(\"region de rejet : Sn inférieure ou égale à \"+str(seuil_exact_1)+\" ou Sn supérieure ou égale à \"+str(seuil_exact_2-1))\n",
    "\n",
    "# test asymptotique -> région de rejet définie par les quantiles de la loi binomiale\n",
    "seuil_asymp_1 = math.floor(n*p0 + math.sqrt(n*p0*(1-p0))*norm.ppf(alpha/2))\n",
    "seuil_asymp_2 = math.ceil(n*p0 + math.sqrt(n*p0*(1-p0))*norm.ppf(1-alpha/2))\n",
    "\n",
    "print(\"\\nTest asymptotique (approx. par loi normale) :\")\n",
    "print(\"region de rejet : Sn inférieure ou égale à \"+str(seuil_asymp_1)+\" ou Sn supérieure ou égale à \"+str(seuil_asymp_2-1))\n",
    "\n",
    "# test asymptotique par la loi de Poisson\n",
    "seuil_poiss_1 = poisson.ppf(alpha/2,n*p0)\n",
    "seuil_poiss_2 = poisson.ppf(1-alpha/2,n*p0)\n",
    "\n",
    "print(\"\\nTest asymptotique (approx par loi de Poisson) :\")\n",
    "print(\"region de rejet : Sn inférieure ou égale à \"+str(seuil_poiss_1)+\" ou Sn supérieure ou égale à \"+str(seuil_poiss_2-1))\n"
   ]
  }
 ],
 "metadata": {
  "kernelspec": {
   "display_name": "Python 3",
   "language": "python",
   "name": "python3"
  },
  "language_info": {
   "codemirror_mode": {
    "name": "ipython",
    "version": 3
   },
   "file_extension": ".py",
   "mimetype": "text/x-python",
   "name": "python",
   "nbconvert_exporter": "python",
   "pygments_lexer": "ipython3",
   "version": "3.7.4"
  },
  "toc": {
   "base_numbering": 1,
   "nav_menu": {},
   "number_sections": true,
   "sideBar": true,
   "skip_h1_title": true,
   "title_cell": "Table of Contents",
   "title_sidebar": "Table des matières",
   "toc_cell": false,
   "toc_position": {
    "height": "748px",
    "left": "574px",
    "top": "111.133px",
    "width": "370.6px"
   },
   "toc_section_display": true,
   "toc_window_display": true
  }
 },
 "nbformat": 4,
 "nbformat_minor": 2
}
